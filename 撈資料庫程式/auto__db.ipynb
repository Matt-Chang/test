{
 "cells": [
  {
   "cell_type": "code",
   "execution_count": 128,
   "metadata": {},
   "outputs": [],
   "source": [
    "from sqlalchemy import create_engine\n",
    "from collections import OrderedDict\n",
    "from datetime import datetime \n",
    "from typing import Union\n",
    "from numpy import NaN\n",
    "import pandas as pd\n",
    "import numpy as np\n",
    "import psycopg2\n",
    "import urllib\n",
    "import shutil\n",
    "import os\n"
   ]
  },
  {
   "cell_type": "code",
   "execution_count": 129,
   "metadata": {},
   "outputs": [],
   "source": [
    "db_setting = pd.read_csv(os.getcwd()+'\\\\'+'set_file'+'\\\\'+'auto_setting'+'\\\\'+'cwb_auto_settting.csv',encoding='ANSI') #database設定檔\n",
    "hydro_setting = pd.read_csv(f'{os.getcwd()}'+'\\\\'+'set_file'+'\\\\'+'auto_setting'+'\\\\'+'cwb_auto_item.csv',encoding='ANSI') #讀取氣象水文設定檔\n",
    "station_setting = pd.read_csv(f'{os.getcwd()}'+'\\\\'+'set_file'+'\\\\'+'auto_setting'+'\\\\'+'cwb_auto_station.csv',encoding='ANSI') #讀取氣象水文設定檔"
   ]
  },
  {
   "cell_type": "code",
   "execution_count": 130,
   "metadata": {},
   "outputs": [],
   "source": [
    "#get db_setting\n",
    "year_from = int(f'{db_setting[\"Input\"][0]}')\n",
    "year_to = int(f'{db_setting[\"Input\"][1]}')\n",
    "database = f'{db_setting[\"Input\"][2]}'\n",
    "user = f'{db_setting[\"Input\"][3]}'\n",
    "password = f'{db_setting[\"Input\"][4]}'\n",
    "host = f'{db_setting[\"Input\"][5]}'\n",
    "port = f'{db_setting[\"Input\"][6]}'\n",
    "database_table = f'{db_setting[\"Input\"][7]}'\n",
    "gssencmode = f'{db_setting[\"Input\"][8]}'\n",
    "output_data = f'{db_setting[\"Input\"][9]}'\n",
    "\n",
    "#get hydro_setting\n",
    "data_input = []\n",
    "hydro_setting.dropna(subset=[\"Input\"], inplace=True)\n",
    "for i in hydro_setting[\"Input\"]:  \n",
    "    data_input.append(i)\n",
    "if len(data_input) == 1:\n",
    "    column_list = data_input[0]\n",
    "else:\n",
    "    column_list = \", \".join(data_input)\n",
    "    \n",
    "#get station_setting\n",
    "sta_input = []\n",
    "station_setting.dropna(subset=[\"Input(station_no)\"], inplace=True)\n",
    "for i in station_setting[\"Input(station_no)\"]:  \n",
    "    sta_input.append(i)\n",
    "if len(sta_input) == 1:\n",
    "    sta_list = sta_input[0]\n",
    "    sta_list = [i for i in set(sta_input)]\n",
    "    sta_list = tuple(sta_list)\n",
    "else:\n",
    "    sta_list = [i for i in set(sta_input)]\n",
    "    sta_list = tuple(sta_list)\n"
   ]
  },
  {
   "cell_type": "code",
   "execution_count": 131,
   "metadata": {},
   "outputs": [],
   "source": [
    "#連接資料庫\n",
    "engine = create_engine(f'postgresql+psycopg2://{user}:%s@{host}/{database}?gssencmode={gssencmode}'%urllib.parse.quote_plus(password))\n",
    "#讀取資料庫\n",
    "conn = psycopg2.connect(database=database,\n",
    "                        user=user,\n",
    "                        password=password,\n",
    "                        host=host,\n",
    "                        port=port,\n",
    "                        gssencmode=gssencmode)\n"
   ]
  },
  {
   "cell_type": "code",
   "execution_count": 132,
   "metadata": {},
   "outputs": [],
   "source": [
    "# read what methods does the usr want to use on each input data (1:min / 2:max / 3: mean / 4: sum)\n",
    "input_methods ={}\n",
    "for item,method_num in zip(hydro_setting['Input'],hydro_setting['method(1:min, max / 2min / 3: max / 4: mean/ 5. sum)']): \n",
    "    input_methods[item] = method_num"
   ]
  },
  {
   "cell_type": "code",
   "execution_count": 152,
   "metadata": {},
   "outputs": [],
   "source": [
    "def cal_variable(var_name: str, calculate_method: str) -> pd.DataFrame:\n",
    "    if var_name in input_methods:\n",
    "        if str(input_methods[var_name]) == '5':\n",
    "            all_df[var_name] = df.groupby('stno').resample('D').sum()[var_name].values\n",
    "            all_df[var_name] = all_df[var_name].apply(lambda x:round(x,2))\n",
    "        elif str(input_methods[var_name]) == '4':\n",
    "            all_df[var_name] = df.groupby('stno').resample('D').mean()[var_name].values\n",
    "            all_df[var_name] = all_df[var_name].apply(lambda x:round(x,2))\n",
    "        elif str(input_methods[var_name]) == '3':\n",
    "            all_df[var_name+\"_max\"] = df.groupby('stno').resample('D').max()[var_name].values\n",
    "            all_df[var_name] = all_df[var_name].apply(lambda x:round(x,2))\n",
    "        elif str(input_methods[var_name]) == '2':\n",
    "            all_df[var_name+\"_min\"] = df.groupby('stno').resample('D').min()[var_name].values\n",
    "            all_df[var_name] = all_df[var_name].apply(lambda x:round(x,2))\n",
    "        elif str(input_methods[var_name]) == '1':\n",
    "            all_df[var_name+\"_min\"] = df.groupby('stno').resample('D').min()[var_name].values\n",
    "            all_df[var_name+\"_min\"] = all_df[var_name+\"_min\"].apply(lambda x:round(x,2))\n",
    "            all_df[var_name+\"_max\"] = df.groupby('stno').resample('D').max()[var_name].values\n",
    "            all_df[var_name+\"_max\"] = all_df[var_name+\"_max\"].apply(lambda x:round(x,2))\n",
    "            \n",
    "def ten_days_cal(df:pd.DataFrame(),var:str)->pd.DataFrame():\n",
    "    if input_methods[var] == 5:\n",
    "        df[var] = round(all_dff.groupby(['year','month','ten_days','stno'])[var].sum(),2)\n",
    "    if input_methods[var] == 4:\n",
    "        df[var] = round(all_dff.groupby(['year','month','ten_days','stno'])[var].mean(),2)\n",
    "    if input_methods[var] == 3:\n",
    "        df[var] = round(all_dff.groupby(['year','month','ten_days','stno'])[var].max(),2)\n",
    "    if input_methods[var] == 2:\n",
    "        df[var] = round(all_dff.groupby(['year','month','ten_days','stno'])[var].min(),2)\n",
    "    if input_methods[var] == 1:\n",
    "        df[var] = round(all_dff.groupby(['year','month','ten_days','stno'])[var].min(),2)\n",
    "        df[var] = round(all_dff.groupby(['year','month','ten_days','stno'])[var].max(),2)"
   ]
  },
  {
   "cell_type": "code",
   "execution_count": 178,
   "metadata": {},
   "outputs": [
    {
     "data": {
      "text/plain": [
       "('C0G650', 'C1X090')"
      ]
     },
     "execution_count": 178,
     "metadata": {},
     "output_type": "execute_result"
    }
   ],
   "source": [
    "sta_list"
   ]
  },
  {
   "cell_type": "code",
   "execution_count": null,
   "metadata": {},
   "outputs": [],
   "source": [
    "auto_final_df = pd.DataFrame()\n",
    "\n",
    "for i in range(int(year_from),int(year_to)+1):\n",
    "    if db_setting['Input'][9] =='1':\n",
    "        query = f'select obsdate, obshour,stno, {column_list} from \"{database_table}_{i}\" where stno in {sta_list}'\n",
    "        df = pd.read_sql(query,con=engine)\n",
    "        df.reset_index(drop=True,inplace=True)\n",
    "        auto_final_df = pd.concat([auto_final_df,df])\n",
    "\n",
    "    if db_setting['Input'][9] =='2':\n",
    "        query = f'select obsdate, obshour,stno, {column_list} from \"{database_table}_{i}\" where stno in {sta_list}'\n",
    "        df = pd.read_sql(query,con=engine)\n",
    "        df['obstime'] = pd.to_datetime(df['obsdate'].astype(str)+'_'+df['obshour'].astype(str),format='%Y-%m-%d_%H')\n",
    "        df[df.isin([-9999,-9997,-9996,-9991])] = np.nan\n",
    "        df.set_index(df['obstime'],inplace=True)\n",
    "        all_df = pd.DataFrame()\n",
    "        for j in input_methods:\n",
    "            cal_variable(f'{j}', f\"{input_methods[j]}\")\n",
    "        all_df['obstime'] = df.groupby('stno').resample('D')['obstime'].first().values\n",
    "        all_df['stno'] = df.groupby('stno').resample('D')['stno'].first().values\n",
    "        all_dff = all_df.copy()\n",
    "        auto_final_df = pd.concat([auto_final_df,all_dff])\n",
    "     \n",
    "    if db_setting['Input'][9] =='3':\n",
    "        query = f'select obsdate, obshour,stno, {column_list} from \"{database_table}_{i}\" where stno in {sta_list}'\n",
    "        df = pd.read_sql(query,con=engine)\n",
    "        df['obstime'] = pd.to_datetime(df['obsdate'].astype(str)+'_'+df['obshour'].astype(str),format='%Y-%m-%d_%H')\n",
    "        df[df.isin([-9999,-9997,-9996,-9991])] = np.nan\n",
    "        df.set_index(df['obstime'],inplace=True)\n",
    "        all_df = pd.DataFrame()\n",
    "        for j in input_methods:\n",
    "            cal_variable(f'{j}', f\"{input_methods[j]}\")\n",
    "        all_df['obstime'] = df.groupby('stno').resample('D')['obstime'].first().values\n",
    "        all_df['stno'] = df.groupby('stno').resample('D')['stno'].first().values\n",
    "        all_dff = all_df.copy()\n",
    "        all_dff['obstime'] = pd.to_datetime(all_dff['obstime'], infer_datetime_format=True)\n",
    "        all_dff['year'] = all_dff['obstime'].dt.year\n",
    "        all_dff['month'] = all_dff['obstime'].dt.month\n",
    "        all_dff['day'] = all_dff['obstime'].dt.day\n",
    "        all_dff['ten_days'] = all_dff['day'].apply(lambda x:'1' if x <= 10 else ('2' if x <=20 else '3'))\n",
    "        all_dff.reset_index(drop=True,inplace=True)\n",
    "        all_dff2 = pd.DataFrame()\n",
    "        for i in input_methods:\n",
    "            ten_days_cal(all_dff2,i)\n",
    "        all_dff2.fillna(-9999,inplace=True)\n",
    "        all_dff2.reset_index(inplace=True)\n",
    "        auto_final_df = pd.concat([auto_final_df,all_dff2])\n",
    "\n",
    "grouped = auto_final_df.groupby('stno')\n",
    "for name, group in grouped:\n",
    "    group.to_csv(f'{os.getcwd()}'+'\\\\'+'tem'+'\\\\'+'auto'+'\\\\'+'groupby'+'\\\\'+f'auto_hour_station_{name}.csv',encoding='ANSI')\n",
    "data_dir_merge2 = f'{os.getcwd()}'+'\\\\'+'tem'+'\\\\'+'auto'+'\\\\'+'groupby'\n",
    "excels2 = [pd.read_csv(f'{data_dir_merge2}\\\\{fname2}',encoding='ANSI').reset_index(drop=True) for fname2 in os.listdir(data_dir_merge2) if os.path.splitext(fname2)[1].lower() == \".csv\" ]\n",
    "df_merge2 = pd.concat(excels2)\n",
    "df_merge2.to_csv(f'{os.getcwd()}'+'\\\\'+'tem'+'\\\\'+'auto'+'\\\\'+f'auto_{year_from}_{year_to}.csv',index=False,encoding='ANSI')\n",
    "\n",
    " "
   ]
  }
 ],
 "metadata": {
  "kernelspec": {
   "display_name": "Python 3",
   "language": "python",
   "name": "python3"
  },
  "language_info": {
   "codemirror_mode": {
    "name": "ipython",
    "version": 3
   },
   "file_extension": ".py",
   "mimetype": "text/x-python",
   "name": "python",
   "nbconvert_exporter": "python",
   "pygments_lexer": "ipython3",
   "version": "3.9.13"
  },
  "orig_nbformat": 4
 },
 "nbformat": 4,
 "nbformat_minor": 2
}
